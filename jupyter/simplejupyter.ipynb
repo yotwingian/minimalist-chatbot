{
 "cells": [
  {
   "cell_type": "markdown",
   "metadata": {},
   "source": [
    "## Simplest OpenAI bot in jupyter"
   ]
  },
  {
   "cell_type": "markdown",
   "metadata": {},
   "source": [
    "### Import necessary libraries"
   ]
  },
  {
   "cell_type": "code",
   "execution_count": 1,
   "metadata": {},
   "outputs": [],
   "source": [
    "from openai import OpenAI\n",
    "import os\n"
   ]
  },
  {
   "cell_type": "markdown",
   "metadata": {},
   "source": [
    "### Initialize the OpenAI client"
   ]
  },
  {
   "cell_type": "code",
   "execution_count": 2,
   "metadata": {},
   "outputs": [],
   "source": [
    "\n",
    "client = OpenAI(api_key=os.getenv('OPENAI_API_KEY'))  # Use environment variable for API key\n",
    "# Alternatively, set your API key directly (not recommended for security):\n",
    "# client = OpenAI(api_key=\"sk-your-actual-key-here\")\n"
   ]
  },
  {
   "cell_type": "markdown",
   "metadata": {},
   "source": [
    "### Function to load a document's content from a file"
   ]
  },
  {
   "cell_type": "code",
   "execution_count": 3,
   "metadata": {},
   "outputs": [],
   "source": [
    "\n",
    "def load_document(file_path):\n",
    "    try:\n",
    "        with open(file_path, 'r', encoding='utf-8') as file:\n",
    "            return file.read()\n",
    "    except Exception as e:\n",
    "        print(f\"Error loading document: {e}\")\n",
    "        return \"\"\n",
    "\n",
    "\n"
   ]
  },
  {
   "cell_type": "markdown",
   "metadata": {},
   "source": [
    "### Load your document (replace 'yourdoc.txt' with your file name/path)"
   ]
  },
  {
   "cell_type": "code",
   "execution_count": 4,
   "metadata": {},
   "outputs": [
    {
     "name": "stdout",
     "output_type": "stream",
     "text": [
      "Document content loaded successfully!\n"
     ]
    }
   ],
   "source": [
    "document_content = load_document(\"faq_hm.txt\")\n",
    "print(\"Document content loaded successfully!\")\n"
   ]
  },
  {
   "cell_type": "markdown",
   "metadata": {},
   "source": [
    "### Chat introduction and starting the chat loop"
   ]
  },
  {
   "cell_type": "code",
   "execution_count": 5,
   "metadata": {},
   "outputs": [
    {
     "name": "stdout",
     "output_type": "stream",
     "text": [
      "Hi, I'm your AI assistant! Type 'exit' to end the conversation.\n",
      "\n",
      "User: Hi , igot a sweater with a hole\n",
      "AI: I'm sorry to hear about the issue with your sweater. If you've received a defective item, you should return it to us. When we receive the returned item and verify the defect, you'll be issued a refund to your original payment method. You can start a return by registering it digitally through our return portal on our website or app.\n",
      "\n",
      "User: thanks\n",
      "AI: You're welcome! If you have any other questions, feel free to ask.\n",
      "\n",
      "User: exit\n",
      "Thanks for chatting! Goodbye!\n"
     ]
    }
   ],
   "source": [
    "\n",
    "def chat_loop(document_content):\n",
    "    print(\"Hi, I'm your AI assistant! Type 'exit' to end the conversation.\")\n",
    "    \n",
    "    while True:\n",
    "        try:\n",
    "            user_input = input(\"You: \").strip()\n",
    "            print(f\"\\nUser: {user_input}\")\n",
    "            \n",
    "            if user_input.lower() == \"exit\":\n",
    "                print(\"Thanks for chatting! Goodbye!\")\n",
    "                break\n",
    "            \n",
    "            if user_input:                 \n",
    "                response = client.chat.completions.create(\n",
    "                    model=\"gpt-4\",\n",
    "                    messages=[\n",
    "                        {\"role\": \"system\", \"content\": \"Only answer questions with this document content: \" + document_content},\n",
    "                        {\"role\": \"user\", \"content\": user_input}\n",
    "                    ]\n",
    "                )\n",
    "                print(\"AI:\", response.choices[0].message.content)\n",
    "        except Exception as e:\n",
    "            print(f\"Error: {e}\")\n",
    "            continue\n",
    "\n",
    "chat_loop(document_content)\n"
   ]
  }
 ],
 "metadata": {
  "kernelspec": {
   "display_name": "simplebot",
   "language": "python",
   "name": "python3"
  },
  "language_info": {
   "codemirror_mode": {
    "name": "ipython",
    "version": 3
   },
   "file_extension": ".py",
   "mimetype": "text/x-python",
   "name": "python",
   "nbconvert_exporter": "python",
   "pygments_lexer": "ipython3",
   "version": "3.9.20"
  }
 },
 "nbformat": 4,
 "nbformat_minor": 2
}

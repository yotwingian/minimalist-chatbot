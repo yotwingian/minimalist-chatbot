{
 "cells": [
  {
   "cell_type": "markdown",
   "metadata": {},
   "source": [
    "# Simple OpenAI bot in jupyter with context and conversation history\n",
    "\n"
   ]
  },
  {
   "cell_type": "markdown",
   "metadata": {},
   "source": [
    "##### Install necessary libraries if not already installed (pip install openai ipywidgets)\n",
    "### Import necessary libraries"
   ]
  },
  {
   "cell_type": "code",
   "execution_count": 1,
   "metadata": {},
   "outputs": [],
   "source": [
    "\n",
    "from openai import OpenAI\n",
    "import os\n",
    "import ipywidgets as widgets\n",
    "from IPython.display import display, Markdown, clear_output\n",
    "import time\n"
   ]
  },
  {
   "cell_type": "markdown",
   "metadata": {},
   "source": [
    "### Initialize the OpenAI client"
   ]
  },
  {
   "cell_type": "code",
   "execution_count": 2,
   "metadata": {},
   "outputs": [],
   "source": [
    "client = OpenAI(api_key=os.getenv('OPENAI_API_KEY'))  # Use environment variable for API key\n",
    "# Alternatively, set your API key directly (not recommended for security):\n",
    "# client = OpenAI(api_key=\"sk-your-actual-key-here\")\n"
   ]
  },
  {
   "cell_type": "markdown",
   "metadata": {},
   "source": [
    " ### Document Loading with Feedback"
   ]
  },
  {
   "cell_type": "code",
   "execution_count": 3,
   "metadata": {},
   "outputs": [],
   "source": [
    "def load_document(file_path):\n",
    "    try:\n",
    "        with open(file_path, 'r', encoding='utf-8') as file:\n",
    "            content = file.read()\n",
    "            display(Markdown(\"✅ Document loaded successfully!\"))\n",
    "            return content\n",
    "    except FileNotFoundError:\n",
    "        display(Markdown(\"❌ **Error:** File not found. Please check the path.\"))\n",
    "        return None"
   ]
  },
  {
   "cell_type": "markdown",
   "metadata": {},
   "source": [
    "### Chat Interface\n",
    "#####\n",
    "##### Give the Bot a role in this case as an assistant:\n",
    "-at this row :   `\"role\": \"system\", \"content\": \"You are a helpful assistant. Use the following content as reference: \"`\n",
    "##### Chat history is added this way:\n",
    "- Appending user messages with `{\"role\": \"user\", \"content\": user_input}`\n",
    "- Appending assistant responses with `{\"role\": \"assistant\", \"content\": bot_response}`\n",
    "- Using this history in message context:`messages = [...] + self.history + [...]`"
   ]
  },
  {
   "cell_type": "code",
   "execution_count": 4,
   "metadata": {},
   "outputs": [],
   "source": [
    "\n",
    "class ChatInterface:\n",
    "    def __init__(self, document_content):\n",
    "        self.document_content = document_content\n",
    "        self.history = []\n",
    "        self.setup_widgets()\n",
    "        \n",
    "    def setup_widgets(self):\n",
    "        self.input_box = widgets.Text(\n",
    "            placeholder='Type your question here (or \"clear\" to reset chat)...',\n",
    "            description='You:',\n",
    "            layout=widgets.Layout(width='70%'),\n",
    "            continuous_update=False  # This prevents immediate updates\n",
    "        )\n",
    "        \n",
    "        self.submit_button = widgets.Button(\n",
    "            description='Send',\n",
    "            button_style='primary',\n",
    "            layout=widgets.Layout(width='20%')\n",
    "        )\n",
    "        \n",
    "        self.input_area = widgets.HBox([self.input_box, self.submit_button])\n",
    "        \n",
    "        self.output_box = widgets.Output(\n",
    "            layout=widgets.Layout(\n",
    "                border='1px solid #ddd',\n",
    "                padding='10px',\n",
    "                margin='10px 0',\n",
    "                max_height='400px',\n",
    "                overflow_y='auto'\n",
    "            )\n",
    "        )\n",
    "        self.status = widgets.HTML(value=\"<i>Ready...</i>\")\n",
    "        \n",
    "    def handle_submit(self, _):\n",
    "        self.process_input(self.input_box.value)\n",
    "        \n",
    "    def on_submit(self, change):\n",
    "        if change[\"name\"] == \"value\" and change[\"type\"] == \"change\" and change.get(\"new\", \"\").endswith(\"\\n\"):\n",
    "            self.input_box.value = self.input_box.value.rstrip()\n",
    "            self.process_input(self.input_box.value)\n",
    "            \n",
    "    def process_input(self, user_input):\n",
    "        if not user_input.strip(): \n",
    "            return\n",
    "            \n",
    "        self.input_box.value = ''\n",
    "        \n",
    "        if user_input.lower() == \"clear\":\n",
    "            with self.output_box:\n",
    "                clear_output()\n",
    "                self.history = []\n",
    "            return\n",
    "                \n",
    "        with self.output_box:\n",
    "            print(f\"You: {user_input}\")\n",
    "            self.status.value = \"<i>Thinking...</i>\"\n",
    "            \n",
    "            try:\n",
    "                messages = [\n",
    "                    {\"role\": \"system\", \"content\": \"You are a helpful assistant. Use the following content as reference: \" + self.document_content},\n",
    "                ] + self.history + [{\"role\": \"user\", \"content\": user_input}]\n",
    "                \n",
    "                response = client.chat.completions.create(\n",
    "                    model=\"gpt-4o-mini\",\n",
    "                    messages=messages\n",
    "                )\n",
    "                \n",
    "                bot_response = response.choices[0].message.content\n",
    "                print(f\"Assistant: {bot_response}\\n{'─' * 50}\\n\")\n",
    "                \n",
    "                self.history.append({\"role\": \"user\", \"content\": user_input})\n",
    "                self.history.append({\"role\": \"assistant\", \"content\": bot_response})\n",
    "                \n",
    "            except Exception as e:\n",
    "                print(f\"❌ Error: {str(e)}\")\n",
    "            \n",
    "            finally:\n",
    "                self.status.value = \"<i>Ready...</i>\""
   ]
  },
  {
   "cell_type": "markdown",
   "metadata": {},
   "source": [
    "### Initialize and Display Interface\n",
    "##### imput our document pathhway here"
   ]
  },
  {
   "cell_type": "code",
   "execution_count": 5,
   "metadata": {},
   "outputs": [
    {
     "data": {
      "text/markdown": [
       "✅ Document loaded successfully!"
      ],
      "text/plain": [
       "<IPython.core.display.Markdown object>"
      ]
     },
     "metadata": {},
     "output_type": "display_data"
    },
    {
     "data": {
      "text/markdown": [
       "### Interactive Assistant"
      ],
      "text/plain": [
       "<IPython.core.display.Markdown object>"
      ]
     },
     "metadata": {},
     "output_type": "display_data"
    },
    {
     "data": {
      "application/vnd.jupyter.widget-view+json": {
       "model_id": "0052a0405ec44297aac474e3d296226f",
       "version_major": 2,
       "version_minor": 0
      },
      "text/plain": [
       "HBox(children=(Text(value='', continuous_update=False, description='You:', layout=Layout(width='70%'), placeho…"
      ]
     },
     "metadata": {},
     "output_type": "display_data"
    },
    {
     "data": {
      "application/vnd.jupyter.widget-view+json": {
       "model_id": "f9a19c0d8aca465b9a8df854e1322378",
       "version_major": 2,
       "version_minor": 0
      },
      "text/plain": [
       "HTML(value='<i>Ready...</i>')"
      ]
     },
     "metadata": {},
     "output_type": "display_data"
    },
    {
     "data": {
      "application/vnd.jupyter.widget-view+json": {
       "model_id": "fbeb5e48ef364d03831e177a799a397b",
       "version_major": 2,
       "version_minor": 0
      },
      "text/plain": [
       "Output(layout=Layout(border_bottom='1px solid #ddd', border_left='1px solid #ddd', border_right='1px solid #dd…"
      ]
     },
     "metadata": {},
     "output_type": "display_data"
    }
   ],
   "source": [
    "\n",
    "document_content = load_document(\"faq_hm.txt\")\n",
    "if document_content:\n",
    "    chat = ChatInterface(document_content)\n",
    "    display(Markdown(\"### Interactive Assistant\"))\n",
    "    display(chat.input_area, chat.status, chat.output_box)\n",
    "    chat.input_box.observe(chat.on_submit, names=\"value\")\n",
    "    chat.submit_button.on_click(chat.handle_submit)"
   ]
  }
 ],
 "metadata": {
  "kernelspec": {
   "display_name": "simplebot",
   "language": "python",
   "name": "python3"
  },
  "language_info": {
   "codemirror_mode": {
    "name": "ipython",
    "version": 3
   },
   "file_extension": ".py",
   "mimetype": "text/x-python",
   "name": "python",
   "nbconvert_exporter": "python",
   "pygments_lexer": "ipython3",
   "version": "3.9.20"
  }
 },
 "nbformat": 4,
 "nbformat_minor": 2
}

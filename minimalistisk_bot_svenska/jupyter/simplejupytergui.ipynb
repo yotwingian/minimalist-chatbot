{
 "cells": [
  {
   "cell_type": "markdown",
   "metadata": {},
   "source": [
    "# Enkel OpenAI-bot i jupyter med kontext och konversationshistorik\n",
    "\n"
   ]
  },
  {
   "cell_type": "markdown",
   "metadata": {},
   "source": [
    "##### Installera nödvändiga bibliotek om de inte redan är installerade (pip install openai ipywidgets)\n",
    "### Importera nödvändiga bibliotek"
   ]
  },
  {
   "cell_type": "code",
   "execution_count": 6,
   "metadata": {},
   "outputs": [],
   "source": [
    "\n",
    "from openai import OpenAI\n",
    "import os\n",
    "import ipywidgets as widgets\n",
    "from IPython.display import display, Markdown, clear_output\n",
    "import time\n"
   ]
  },
  {
   "cell_type": "markdown",
   "metadata": {},
   "source": [
    "### Initiera OpenAI-klienten"
   ]
  },
  {
   "cell_type": "code",
   "execution_count": 7,
   "metadata": {},
   "outputs": [],
   "source": [
    "client = OpenAI(api_key=os.getenv('OPENAI_API_KEY'))  # Use environment variable for API key\n",
    "# Alternatively, set your API key directly (not recommended for security):\n",
    "# client = OpenAI(api_key=\"sk-your-actual-key-here\")\n"
   ]
  },
  {
   "cell_type": "markdown",
   "metadata": {},
   "source": [
    " ### Dokumentladdning med återkoppling"
   ]
  },
  {
   "cell_type": "code",
   "execution_count": 8,
   "metadata": {},
   "outputs": [],
   "source": [
    "def load_document(file_path):\n",
    "    try:\n",
    "        with open(file_path, 'r', encoding='utf-8') as file:\n",
    "            content = file.read()\n",
    "            display(Markdown(\"✅ Document loaded successfully!\"))\n",
    "            return content\n",
    "    except FileNotFoundError:\n",
    "        display(Markdown(\"❌ **Error:** File not found. Please check the path.\"))\n",
    "        return None"
   ]
  },
  {
   "cell_type": "markdown",
   "metadata": {},
   "source": [
    "### Chattgränssnitt\n",
    "#####\n",
    "##### Ge Botten en roll, i detta fall som en assistent:\n",
    "- På denna rad: `\"role\": \"system\", \"content\": \"Du är en hjälpsam assistent. Använd följande innehåll som referens: \"`\n",
    "\n",
    "##### Chattens historik läggs till på detta sätt:\n",
    "- Lägga till användarens meddelanden med `{\"role\": \"user\", \"content\": user_input}`\n",
    "- Lägga till assistentens svar med `{\"role\": \"assistant\", \"content\": bot_response}`\n",
    "- Använda denna historik i meddelandets kontext: `messages = [...] + self.history + [...]`\n"
   ]
  },
  {
   "cell_type": "code",
   "execution_count": 9,
   "metadata": {},
   "outputs": [],
   "source": [
    "\n",
    "class ChatInterface:\n",
    "    def __init__(self, document_content):\n",
    "        self.document_content = document_content\n",
    "        self.history = []\n",
    "        self.setup_widgets()\n",
    "        \n",
    "    def setup_widgets(self):\n",
    "        self.input_box = widgets.Text(\n",
    "            placeholder='Skriv din fråga här (eller \"rensa\" för att återställa chatten)...',\n",
    "            description='Du:',\n",
    "            layout=widgets.Layout(width='70%'),\n",
    "            continuous_update=False  \n",
    "        )\n",
    "        \n",
    "        self.submit_button = widgets.Button(\n",
    "            description='Send',\n",
    "            button_style='primary',\n",
    "            layout=widgets.Layout(width='20%')\n",
    "        )\n",
    "        \n",
    "        self.input_area = widgets.HBox([self.input_box, self.submit_button])\n",
    "        \n",
    "        self.output_box = widgets.Output(\n",
    "            layout=widgets.Layout(\n",
    "                border='1px solid #ddd',\n",
    "                padding='10px',\n",
    "                margin='10px 0',\n",
    "                max_height='400px',\n",
    "                overflow_y='auto'\n",
    "            )\n",
    "        )\n",
    "        self.status = widgets.HTML(value=\"<i>Ready...</i>\")\n",
    "        \n",
    "    def handle_submit(self, _):\n",
    "        self.process_input(self.input_box.value)\n",
    "        \n",
    "    def on_submit(self, change):\n",
    "        if change[\"name\"] == \"value\" and change[\"type\"] == \"change\" and change.get(\"new\", \"\").endswith(\"\\n\"):\n",
    "            self.input_box.value = self.input_box.value.rstrip()\n",
    "            self.process_input(self.input_box.value)\n",
    "            \n",
    "    def process_input(self, user_input):\n",
    "        if not user_input.strip(): \n",
    "            return\n",
    "            \n",
    "        self.input_box.value = ''\n",
    "        \n",
    "        if user_input.lower() == \"clear\":\n",
    "            with self.output_box:\n",
    "                clear_output()\n",
    "                self.history = []\n",
    "            return\n",
    "                \n",
    "        with self.output_box:\n",
    "            print(f\"You: {user_input}\")\n",
    "            self.status.value = \"<i>Tänker...</i>\"\n",
    "            \n",
    "            try:\n",
    "                messages = [\n",
    "                    {\"role\": \"system\", \"content\": \"Du är en hjälpsam assistent. Använd följande innehåll som referens: \" + self.document_content},\n",
    "                ] + self.history + [{\"role\": \"user\", \"content\": user_input}]\n",
    "                \n",
    "                response = client.chat.completions.create(\n",
    "                    model=\"gpt-4o-mini\",\n",
    "                    messages=messages\n",
    "                )\n",
    "                \n",
    "                bot_response = response.choices[0].message.content\n",
    "                print(f\"Assistant: {bot_response}\\n{'─' * 50}\\n\")\n",
    "                \n",
    "                self.history.append({\"role\": \"user\", \"content\": user_input})\n",
    "                self.history.append({\"role\": \"assistant\", \"content\": bot_response})\n",
    "                \n",
    "            except Exception as e:\n",
    "                print(f\"❌ Error: {str(e)}\")\n",
    "            \n",
    "            finally:\n",
    "                self.status.value = \"<i>Ready...</i>\""
   ]
  },
  {
   "cell_type": "markdown",
   "metadata": {},
   "source": [
    "### Initiera och visa gränssnitt\n",
    "##### Lägg till dokument pathhway här"
   ]
  },
  {
   "cell_type": "code",
   "execution_count": 10,
   "metadata": {},
   "outputs": [
    {
     "data": {
      "text/markdown": [
       "✅ Document loaded successfully!"
      ],
      "text/plain": [
       "<IPython.core.display.Markdown object>"
      ]
     },
     "metadata": {},
     "output_type": "display_data"
    },
    {
     "data": {
      "text/markdown": [
       "### Interaktiv assistent"
      ],
      "text/plain": [
       "<IPython.core.display.Markdown object>"
      ]
     },
     "metadata": {},
     "output_type": "display_data"
    },
    {
     "data": {
      "application/vnd.jupyter.widget-view+json": {
       "model_id": "00fb0d95bf81467286e6dd92edd5d289",
       "version_major": 2,
       "version_minor": 0
      },
      "text/plain": [
       "HBox(children=(Text(value='', continuous_update=False, description='Du:', layout=Layout(width='70%'), placehol…"
      ]
     },
     "metadata": {},
     "output_type": "display_data"
    },
    {
     "data": {
      "application/vnd.jupyter.widget-view+json": {
       "model_id": "13c92396aaa048ff86f64dc903bef8f7",
       "version_major": 2,
       "version_minor": 0
      },
      "text/plain": [
       "HTML(value='<i>Ready...</i>')"
      ]
     },
     "metadata": {},
     "output_type": "display_data"
    },
    {
     "data": {
      "application/vnd.jupyter.widget-view+json": {
       "model_id": "ef40d3dddb05495daecc32a3b5064366",
       "version_major": 2,
       "version_minor": 0
      },
      "text/plain": [
       "Output(layout=Layout(border_bottom='1px solid #ddd', border_left='1px solid #ddd', border_right='1px solid #dd…"
      ]
     },
     "metadata": {},
     "output_type": "display_data"
    }
   ],
   "source": [
    "\n",
    "document_content = load_document(\"faq_hm.txt\")\n",
    "if document_content:\n",
    "    chat = ChatInterface(document_content)\n",
    "    display(Markdown(\"### Interaktiv assistent\"))\n",
    "    display(chat.input_area, chat.status, chat.output_box)\n",
    "    chat.input_box.observe(chat.on_submit, names=\"value\")\n",
    "    chat.submit_button.on_click(chat.handle_submit)"
   ]
  }
 ],
 "metadata": {
  "kernelspec": {
   "display_name": "simplebot",
   "language": "python",
   "name": "python3"
  },
  "language_info": {
   "codemirror_mode": {
    "name": "ipython",
    "version": 3
   },
   "file_extension": ".py",
   "mimetype": "text/x-python",
   "name": "python",
   "nbconvert_exporter": "python",
   "pygments_lexer": "ipython3",
   "version": "3.9.20"
  }
 },
 "nbformat": 4,
 "nbformat_minor": 2
}

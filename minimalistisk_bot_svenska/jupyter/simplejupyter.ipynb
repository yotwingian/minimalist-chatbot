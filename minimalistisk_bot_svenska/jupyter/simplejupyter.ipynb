{
 "cells": [
  {
   "cell_type": "markdown",
   "metadata": {},
   "source": [
    "## Enklaste OpenAI-boten i jupyter"
   ]
  },
  {
   "cell_type": "markdown",
   "metadata": {},
   "source": [
    "### Importera nödvändiga bibliotek"
   ]
  },
  {
   "cell_type": "code",
   "execution_count": 1,
   "metadata": {},
   "outputs": [],
   "source": [
    "from openai import OpenAI\n",
    "import os\n"
   ]
  },
  {
   "cell_type": "markdown",
   "metadata": {},
   "source": [
    "### Initiera OpenAI-klienten"
   ]
  },
  {
   "cell_type": "code",
   "execution_count": 2,
   "metadata": {},
   "outputs": [],
   "source": [
    "\n",
    "client = OpenAI(api_key=os.getenv('OPENAI_API_KEY'))  # Use environment variable for API key\n",
    "# Alternatively, set your API key directly (not recommended for security):\n",
    "# client = OpenAI(api_key=\"sk-your-actual-key-here\")\n"
   ]
  },
  {
   "cell_type": "markdown",
   "metadata": {},
   "source": [
    "### Funktion för att ladda ett dokuments innehåll från en fil"
   ]
  },
  {
   "cell_type": "code",
   "execution_count": 3,
   "metadata": {},
   "outputs": [],
   "source": [
    "\n",
    "def load_document(file_path):\n",
    "    try:\n",
    "        with open(file_path, 'r', encoding='utf-8') as file:\n",
    "            return file.read()\n",
    "    except Exception as e:\n",
    "        print(f\"Error loading document: {e}\")\n",
    "        return \"\"\n",
    "\n",
    "\n"
   ]
  },
  {
   "cell_type": "markdown",
   "metadata": {},
   "source": [
    "### Ladda ditt dokument (ersätt 'yourdoc.txt' med ditt filnamn/sökväg)"
   ]
  },
  {
   "cell_type": "code",
   "execution_count": 4,
   "metadata": {},
   "outputs": [
    {
     "name": "stdout",
     "output_type": "stream",
     "text": [
      "Document content loaded successfully!\n"
     ]
    }
   ],
   "source": [
    "document_content = load_document(\"faq_hm.txt\")\n",
    "print(\"Document content loaded successfully!\")\n"
   ]
  },
  {
   "cell_type": "markdown",
   "metadata": {},
   "source": [
    "### Introduktion av chatten och start av chattloopen"
   ]
  },
  {
   "cell_type": "code",
   "execution_count": 5,
   "metadata": {},
   "outputs": [
    {
     "name": "stdout",
     "output_type": "stream",
     "text": [
      "Hej, jag är din AI-assistent! Skriv 'exit' för att avsluta konversationen.\n",
      "\n",
      "User: Hej tröjan jag fick luktar illa\n",
      "AI: Om du har fått en vara som luktar illa kan du returnera den till oss för en återbetalning via din ursprungliga betalningsmetod. Använd vår digitala returportal som du hittar på hemsidan eller i vår app för att registrera din retur. Du kan läsa mer om hur du gör en retur på https://www2.hm.com/sv_se/customer-service/returer.html.\n",
      "\n",
      "User: tack vad bra\n",
      "AI: Jag är glad att du tycker att det är bra! Om du har fler frågor, tveka inte att fråga.\n",
      "\n",
      "User: exit\n",
      "Tack för att du chattar! Adjö!\n"
     ]
    }
   ],
   "source": [
    "\n",
    "def chat_loop(document_content):\n",
    "    print(\"Hej, jag är din AI-assistent! Skriv 'exit' för att avsluta konversationen.\")\n",
    "    \n",
    "    while True:\n",
    "        try:\n",
    "            user_input = input(\"Du: \").strip()\n",
    "            print(f\"\\nUser: {user_input}\")\n",
    "            \n",
    "            if user_input.lower() == \"exit\":\n",
    "                print(\"Tack för att du chattar! Adjö!\")\n",
    "                break\n",
    "            \n",
    "            if user_input:                 \n",
    "                response = client.chat.completions.create(\n",
    "                    model=\"gpt-4\",\n",
    "                    messages=[\n",
    "                        {\"role\": \"system\", \"content\": \"Svara bara på frågor med det här dokumentinnehållet: \" + document_content},\n",
    "                        {\"role\": \"user\", \"content\": user_input}\n",
    "                    ]\n",
    "                )\n",
    "                print(\"AI:\", response.choices[0].message.content)\n",
    "        except Exception as e:\n",
    "            print(f\"Error: {e}\")\n",
    "            continue\n",
    "\n",
    "chat_loop(document_content)\n"
   ]
  }
 ],
 "metadata": {
  "kernelspec": {
   "display_name": "simplebot",
   "language": "python",
   "name": "python3"
  },
  "language_info": {
   "codemirror_mode": {
    "name": "ipython",
    "version": 3
   },
   "file_extension": ".py",
   "mimetype": "text/x-python",
   "name": "python",
   "nbconvert_exporter": "python",
   "pygments_lexer": "ipython3",
   "version": "3.9.20"
  }
 },
 "nbformat": 4,
 "nbformat_minor": 2
}
